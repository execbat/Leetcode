{
 "cells": [
  {
   "cell_type": "markdown",
   "id": "f0ae539c-1447-445a-a58d-dcc7ce27bbe7",
   "metadata": {},
   "source": [
    "Given an integer array nums of unique elements, return all possible \n",
    "subsets\n",
    " (the power set).\n",
    "\n",
    "The solution set must not contain duplicate subsets. Return the solution in any order.\n",
    "\n",
    " \n",
    "\n",
    "Example 1:\n",
    "\n",
    "Input: nums = [1,2,3]\n",
    "Output: [[],[1],[2],[1,2],[3],[1,3],[2,3],[1,2,3]]\n",
    "Example 2:\n",
    "\n",
    "Input: nums = [0]\n",
    "Output: [[],[0]]\n",
    " \n",
    "\n",
    "Constraints:\n",
    "\n",
    "1 <= nums.length <= 10\n",
    "-10 <= nums[i] <= 10\n",
    "All the numbers of nums are unique."
   ]
  },
  {
   "cell_type": "code",
   "execution_count": 13,
   "id": "298d2831-f81a-46b9-95e5-83a5a64b1681",
   "metadata": {},
   "outputs": [],
   "source": [
    "l = [1,2,3, 4]\n"
   ]
  },
  {
   "cell_type": "code",
   "execution_count": 14,
   "id": "bebee2ed-bd95-496e-a385-6e448d59b11c",
   "metadata": {},
   "outputs": [
    {
     "data": {
      "text/plain": [
       "[[],\n",
       " [1],\n",
       " [2],\n",
       " [1, 2],\n",
       " [3],\n",
       " [1, 3],\n",
       " [2, 3],\n",
       " [1, 2, 3],\n",
       " [4],\n",
       " [1, 4],\n",
       " [2, 4],\n",
       " [1, 2, 4],\n",
       " [3, 4],\n",
       " [1, 3, 4],\n",
       " [2, 3, 4],\n",
       " [1, 2, 3, 4]]"
      ]
     },
     "execution_count": 14,
     "metadata": {},
     "output_type": "execute_result"
    }
   ],
   "source": [
    "def subsets(l_obj):\n",
    "    subsets = []\n",
    "    for mask in range(2**len(l_obj)):\n",
    "        curr_set = []\n",
    "        for bit_shift in range(len(l_obj)):\n",
    "            if mask & (1 << bit_shift):\n",
    "                curr_set.append(l_obj[bit_shift])\n",
    "                \n",
    "        subsets.append(curr_set)\n",
    "\n",
    "    return subsets\n",
    "        \n",
    "    \n",
    "subsets(l)   "
   ]
  },
  {
   "cell_type": "code",
   "execution_count": 12,
   "id": "f22475c3-d595-49a8-b313-140307935376",
   "metadata": {},
   "outputs": [],
   "source": [
    "class Solution(object):\n",
    "    def subsets(self, object):\n",
    "        subset = []\n",
    "        for mask in range(2**len(object)):\n",
    "            curr_set = []\n",
    "            for bit_shift in range(len(object)):\n",
    "                if mask & (1 << bit_shift):\n",
    "                    curr_set.append(object[bit_shift])\n",
    "                    \n",
    "            subset.append(curr_set)\n",
    "\n",
    "        return subset\n",
    "        "
   ]
  }
 ],
 "metadata": {
  "kernelspec": {
   "display_name": "Python 3 (ipykernel)",
   "language": "python",
   "name": "python3"
  },
  "language_info": {
   "codemirror_mode": {
    "name": "ipython",
    "version": 3
   },
   "file_extension": ".py",
   "mimetype": "text/x-python",
   "name": "python",
   "nbconvert_exporter": "python",
   "pygments_lexer": "ipython3",
   "version": "3.11.7"
  }
 },
 "nbformat": 4,
 "nbformat_minor": 5
}
