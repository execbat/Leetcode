{
 "cells": [
  {
   "cell_type": "markdown",
   "id": "9b0ad49a-0ab7-4397-8138-6a522d06d58f",
   "metadata": {},
   "source": [
    "7. Reverse Integer"
   ]
  },
  {
   "cell_type": "markdown",
   "id": "92f9e97e-bc76-4468-88c8-ae345b9130b5",
   "metadata": {},
   "source": [
    "Given a signed 32-bit integer x, return x with its digits reversed. If reversing x causes the value to go outside the signed 32-bit integer range [-231, 231 - 1], then return 0.\n",
    "\n",
    "Assume the environment does not allow you to store 64-bit integers (signed or unsigned)."
   ]
  },
  {
   "attachments": {
    "92345048-f181-4c96-993d-f25bc711956a.png": {
     "image/png": "[encoded data removed]"
    }
   },
   "cell_type": "markdown",
   "id": "fdee32ff-67ec-4835-ae7b-8813ce4491bd",
   "metadata": {},
   "source": [
    "![image.png](attachment:92345048-f181-4c96-993d-f25bc711956a.png)"
   ]
  },
  {
   "cell_type": "code",
   "execution_count": null,
   "id": "c239d547-701f-4707-9ed9-4df625091f4b",
   "metadata": {},
   "outputs": [],
   "source": [
    "class Solution(object):\n",
    "    def reverse(self, x):\n",
    "        \"\"\"\n",
    "        :type x: int\n",
    "        :rtype: int\n",
    "        \"\"\"\n",
    "        INT_MIN, INT_MAX = -2**31, 2**31 - 1  # 32-битные границы\n",
    "        \n",
    "        res = 0\n",
    "        sign = -1 if x < 0 else 1\n",
    "\n",
    "        x = abs(x)\n",
    "\n",
    "        while x != 0:\n",
    "            res *= 10\n",
    "            last = x % 10\n",
    "            x = x // 10         \n",
    "                    \n",
    "            if res > (INT_MAX - last): # overload check\n",
    "                return 0\n",
    "                \n",
    "            res += last\n",
    "            \n",
    "        return sign * res"
   ]
  },
  {
   "cell_type": "code",
   "execution_count": null,
   "id": "eb820675-ccfe-4998-a304-195d7214a2f3",
   "metadata": {},
   "outputs": [],
   "source": [
    "# Development"
   ]
  },
  {
   "cell_type": "code",
   "execution_count": 58,
   "id": "8ed22d56-fb45-479e-bac3-270191687921",
   "metadata": {},
   "outputs": [],
   "source": [
    "x = -2147483412"
   ]
  },
  {
   "cell_type": "code",
   "execution_count": 59,
   "id": "cf40cd53-1536-4369-8ca8-cfa703272f6a",
   "metadata": {},
   "outputs": [
    {
     "data": {
      "text/plain": [
       "-2143847412"
      ]
     },
     "execution_count": 59,
     "metadata": {},
     "output_type": "execute_result"
    }
   ],
   "source": [
    "def reverse_num(x):\n",
    "    INT_MIN, INT_MAX = -2**31, 2**31 - 1  # 32-bit limits\n",
    "    \n",
    "    res = 0\n",
    "    sign = -1 if x < 0 else 1\n",
    "\n",
    "    x = abs(x)\n",
    "\n",
    "    while x != 0:\n",
    "        res *= 10\n",
    "        last = x % 10\n",
    "        x = x // 10         \n",
    "                \n",
    "        if res > (INT_MAX - last):  # overload check\n",
    "            return 0\n",
    "            \n",
    "        res += last\n",
    "        \n",
    "    return sign * res\n",
    "    \n",
    "reverse_num(x)   "
   ]
  }
 ],
 "metadata": {
  "kernelspec": {
   "display_name": "Python 3 (ipykernel)",
   "language": "python",
   "name": "python3"
  },
  "language_info": {
   "codemirror_mode": {
    "name": "ipython",
    "version": 3
   },
   "file_extension": ".py",
   "mimetype": "text/x-python",
   "name": "python",
   "nbconvert_exporter": "python",
   "pygments_lexer": "ipython3",
   "version": "3.11.7"
  }
 },
 "nbformat": 4,
 "nbformat_minor": 5
}
